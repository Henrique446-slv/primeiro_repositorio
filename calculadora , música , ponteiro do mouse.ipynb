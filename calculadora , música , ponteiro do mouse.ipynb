{
 "cells": [
  {
   "cell_type": "code",
   "execution_count": 1,
   "id": "fd92897e",
   "metadata": {},
   "outputs": [],
   "source": [
    "import pyautogui as aut\n",
    "\n",
    "aut.hotkey(\"Win\",\"r\")"
   ]
  },
  {
   "cell_type": "code",
   "execution_count": 11,
   "id": "b1a97823",
   "metadata": {},
   "outputs": [],
   "source": [
    "import pyautogui as aut "
   ]
  },
  {
   "cell_type": "code",
   "execution_count": null,
   "id": "3e5fca74",
   "metadata": {},
   "outputs": [],
   "source": []
  },
  {
   "cell_type": "code",
   "execution_count": 28,
   "id": "592a4eb7",
   "metadata": {},
   "outputs": [],
   "source": [
    "# estou importando o pyautogui e apelidando ele de aut \n",
    "\n",
    "\n",
    "#pressiono a tecla de atalho win +r\n",
    "aut.hotkey(\"win\",\"r\")\n",
    "#escrever notepad\n",
    "aut.write(\"chrome\", interval=0.7)\n",
    "#espera 1 segundo\n",
    "aut.sleep(1)\n",
    "#aperta o enter\n",
    "aut.press('Enter')\n",
    "aut.sleep(1)\n",
    "aut.hotkey(\"ctrl\", \"v\")\n",
    "aut.press(\"enter\")\n",
    "# aut.sleep(1)\n",
    "# aut.moveTo(1284,399)\n",
    "# aut.click()\n",
    "# sleep(1)\n",
    "# aut.write(\"professor top\", interval=0.2)\n"
   ]
  },
  {
   "cell_type": "code",
   "execution_count": null,
   "id": "3f60e991",
   "metadata": {},
   "outputs": [
    {
     "ename": "SyntaxError",
     "evalue": "invalid syntax (1232951234.py, line 4)",
     "output_type": "error",
     "traceback": [
      "  \u001b[36mCell\u001b[39m\u001b[36m \u001b[39m\u001b[32mIn[20]\u001b[39m\u001b[32m, line 4\u001b[39m\n\u001b[31m    \u001b[39m\u001b[31mhttps://youtu.be/LRqT1YQtEzw?si=DhC7xzJQGU370qYp\u001b[39m\n          ^\n\u001b[31mSyntaxError\u001b[39m\u001b[31m:\u001b[39m invalid syntax\n"
     ]
    }
   ],
   "source": [
    "#pega a posição do mouse\n",
    "aut.mouseInfo()\n",
    "aut.moveTo(1284,399)\n",
    "https://youtu.be/HL1UzIK-flA?si=UvfGQVE9bQTQuFbI"
   ]
  },
  {
   "cell_type": "code",
   "execution_count": 2,
   "id": "197fcaf9",
   "metadata": {},
   "outputs": [
    {
     "ename": "NameError",
     "evalue": "name 'aut' is not defined",
     "output_type": "error",
     "traceback": [
      "\u001b[31m---------------------------------------------------------------------------\u001b[39m",
      "\u001b[31mNameError\u001b[39m                                 Traceback (most recent call last)",
      "\u001b[36mCell\u001b[39m\u001b[36m \u001b[39m\u001b[32mIn[2]\u001b[39m\u001b[32m, line 1\u001b[39m\n\u001b[32m----> \u001b[39m\u001b[32m1\u001b[39m \u001b[43maut\u001b[49m.press(\u001b[33m\"\u001b[39m\u001b[33mwin\u001b[39m\u001b[33m\"\u001b[39m)\n\u001b[32m      2\u001b[39m aut.sleep(\u001b[32m1\u001b[39m)\n\u001b[32m      3\u001b[39m aut.write(\u001b[33m\"\u001b[39m\u001b[33mcalculadora\u001b[39m\u001b[33m\"\u001b[39m, interval= \u001b[32m0.2\u001b[39m)\n",
      "\u001b[31mNameError\u001b[39m: name 'aut' is not defined"
     ]
    }
   ],
   "source": [
    "aut.press(\"win\")\n",
    "aut.sleep(1)\n",
    "aut.write(\"calculadora\", interval= 0.2)\n",
    "aut.sleep(1)\n",
    "aut.press(\"enter\")\n",
    "aut.moveTo(112,379)\n",
    "aut.sleep(0.5)\n",
    "aut.click()\n",
    "aut.sleep(0.5)\n",
    "aut.moveTo(194,385)\n",
    "aut.sleep(0.5)\n",
    "aut.click()\n",
    "aut.sleep(0.5)\n",
    "aut.moveTo(355,529)\n",
    "aut.sleep(0.5)\n",
    "aut.click()\n",
    "\n"
   ]
  },
  {
   "cell_type": "code",
   "execution_count": 6,
   "id": "655803b5",
   "metadata": {},
   "outputs": [],
   "source": [
    "import pyautogui as aut\n",
    "aut.press(\"win\")\n",
    "aut.sleep(0.5)\n",
    "aut.write('paint', interval=0.2)\n",
    "aut.sleep(0.5)\n",
    "aut.press('enter')"
   ]
  }
 ],
 "metadata": {
  "kernelspec": {
   "display_name": "Python 3",
   "language": "python",
   "name": "python3"
  },
  "language_info": {
   "codemirror_mode": {
    "name": "ipython",
    "version": 3
   },
   "file_extension": ".py",
   "mimetype": "text/x-python",
   "name": "python",
   "nbconvert_exporter": "python",
   "pygments_lexer": "ipython3",
   "version": "3.13.2"
  }
 },
 "nbformat": 4,
 "nbformat_minor": 5
}
